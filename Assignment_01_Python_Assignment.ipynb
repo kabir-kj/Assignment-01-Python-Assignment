{
  "nbformat": 4,
  "nbformat_minor": 0,
  "metadata": {
    "colab": {
      "provenance": [],
      "authorship_tag": "ABX9TyM3JCJGjVjS6liz8XzPOKli",
      "include_colab_link": true
    },
    "kernelspec": {
      "name": "python3",
      "display_name": "Python 3"
    },
    "language_info": {
      "name": "python"
    }
  },
  "cells": [
    {
      "cell_type": "markdown",
      "metadata": {
        "id": "view-in-github",
        "colab_type": "text"
      },
      "source": [
        "<a href=\"https://colab.research.google.com/github/kabir-kj/Assignment-01-Python-Assignment/blob/main/Assignment_01_Python_Assignment.ipynb\" target=\"_parent\"><img src=\"https://colab.research.google.com/assets/colab-badge.svg\" alt=\"Open In Colab\"/></a>"
      ]
    },
    {
      "cell_type": "markdown",
      "source": [
        "#Python Assignment"
      ],
      "metadata": {
        "id": "B-m0cbhE7o9_"
      }
    },
    {
      "cell_type": "markdown",
      "source": [
        "Q1. L is a list defined as \n",
        "\n",
        "L= [11, 12, 13, 14].\n",
        "\n",
        "(i) WAP to add 50 and 60 to L. \n",
        "\n",
        "(ii) WAP to remove 11 and 13from L.\n",
        "\n",
        "(iii) WAP to sort L in ascending order.\n",
        "\n",
        "(iv) WAP to sort L in descending order.\n",
        "\n",
        "(v) WAP to search for 13 in L.\n",
        "\n",
        "(vi) WAP to count the number of elements \n",
        "present in L.\n",
        "\n",
        "(vii) WAP to sum all the elements in L.\n",
        "\n",
        "(viii) WAP to sum all ODD numbers in L.\n",
        "\n",
        "(ix) WAP to sum all EVEN numbers in L.\n",
        "\n",
        "(x) WAP to sum all PRIME numbers in L.\n",
        "\n",
        "(xi) WAP to clear all the elements in L.\n",
        "\n",
        "(xii) WAP to delete L."
      ],
      "metadata": {
        "id": "NaVIznbJ7v2O"
      }
    },
    {
      "cell_type": "code",
      "execution_count": null,
      "metadata": {
        "colab": {
          "base_uri": "https://localhost:8080/"
        },
        "id": "d1XMtW5W7lwh",
        "outputId": "af2b5aa5-a37d-4c6d-8e3f-127d3c1877d8"
      },
      "outputs": [
        {
          "output_type": "stream",
          "name": "stdout",
          "text": [
            "[11, 12, 13, 14, 50, 60]\n",
            "[12, 14, 50, 60]\n",
            "[12, 14, 50, 60]\n",
            "[60, 50, 14, 12]\n",
            "False\n",
            "4\n",
            "136\n",
            "Even sum -  136\n",
            "Odd sum -  0\n",
            "0\n",
            "None\n"
          ]
        }
      ],
      "source": [
        "l= [11, 12, 13, 14]\n",
        "#1\n",
        "l.extend([50,60])\n",
        "print(l)\n",
        "\n",
        "#2\n",
        "l.remove(11)\n",
        "l.remove(13)\n",
        "print(l)\n",
        "\n",
        "#3\n",
        "l.sort()\n",
        "print(l)\n",
        "\n",
        "#4\n",
        "l.sort(reverse=True)\n",
        "print(l)\n",
        "\n",
        "#5\n",
        "s=13\n",
        "print(s in l)\n",
        "\n",
        "#6\n",
        "print(len(l))\n",
        "\n",
        "#7\n",
        "print(sum(l))\n",
        "\n",
        "#8,9\n",
        "even=0\n",
        "odd=0\n",
        "for n in l:\n",
        "  if  n % 2 == 0: \n",
        "    even=even+n\n",
        "  else:\n",
        "    odd=odd+n\n",
        "print(\"Even sum - \",even)\n",
        "print(\"Odd sum - \",odd)\n",
        "\n",
        "#10\n",
        "def prime(nums):\n",
        "    if len(nums) > 0:    \n",
        "        e = lambda a: 2 in [a, 2**a%a]\n",
        "        return sum(filter(e, nums))\n",
        "    else:\n",
        "        return 0\n",
        "print(prime(l))\n",
        "\n",
        "#11\n",
        "print(l.clear())\n",
        "\n",
        "#12\n",
        "del l"
      ]
    },
    {
      "cell_type": "markdown",
      "source": [
        "Q2. D is a dictionary defined as \n",
        "D= {1:5.6, 2:7.8, 3:6.6, 4:8.7, 5:7.7}.\n",
        "\n",
        "(i) WAP to add new entry in D; key=8 and value is 8.8\n",
        "\n",
        "(ii) WAP to remove key=2.\n",
        "\n",
        "(iii) WAP to check weather 6 key is present in D.\n",
        "\n",
        "(iv) WAP to count the number of elements present in D.\n",
        "\n",
        "(v) WAP to add all the values present D.\n",
        "\n",
        "(vi) WAP to update the value of 3 to 7.1.\n",
        "\n",
        "(vii) WAP to clear the dictionary"
      ],
      "metadata": {
        "id": "yMK-NbH5Dsb_"
      }
    },
    {
      "cell_type": "code",
      "source": [
        "d= {1:5.6, 2:7.8, 3:6.6, 4:8.7, 5:7.7}\n",
        "\n",
        "#1\n",
        "d[8]=88\n",
        "print(d)\n",
        "\n",
        "#2\n",
        "print(d.pop(2))\n",
        "\n",
        "#3\n",
        "print(d.get(6))\n",
        "\n",
        "#4\n",
        "print(len(d))\n",
        "\n",
        "#5\n",
        "sum=0\n",
        "for x in d.values():\n",
        "  sum+=x\n",
        "print(sum)\n",
        "\n",
        "#6\n",
        "d[3]=7.1\n",
        "\n",
        "#7\n",
        "d.clear()\n",
        "\n",
        "\n"
      ],
      "metadata": {
        "colab": {
          "base_uri": "https://localhost:8080/"
        },
        "id": "dEp2MqMiAfgs",
        "outputId": "82517d6c-9233-4444-b2fb-7068aefc02d6"
      },
      "execution_count": null,
      "outputs": [
        {
          "output_type": "stream",
          "name": "stdout",
          "text": [
            "{1: 5.6, 2: 7.8, 3: 6.6, 4: 8.7, 5: 7.7, 8: 88}\n",
            "7.8\n",
            "None\n",
            "5\n",
            "116.6\n"
          ]
        }
      ]
    },
    {
      "cell_type": "markdown",
      "source": [
        "Q3. \n",
        " S1 is a set defined as S1= [10, 20, 30, 40, 50, 60].\n",
        " \n",
        " S2 is a set defined as S2= [40, 50, 60, 70, 80, 90].\n",
        "\n",
        "(i) WAP to add 55 and 66 in Set S1.\n",
        "\n",
        "(ii) WAP to remove 10 and 30 from Set S1.\n",
        "\n",
        "(iii) WAP to check whether 40 is present in S1.\n",
        "\n",
        "(iv) WAP to find the union between S1 and S2.\n",
        "\n",
        "(v) WAP to find the intersection between S1 and S2.\n",
        "\n",
        "(vi) WAP to find the S1 - S2."
      ],
      "metadata": {
        "id": "iWrtP71lFzbm"
      }
    },
    {
      "cell_type": "code",
      "source": [
        "s1= set([10, 20, 30, 40, 50, 60])\n",
        "s2= set([40, 50, 60, 70, 80, 90])\n",
        "\n",
        "#1\n",
        "s1.add(55)\n",
        "s1.add(66)\n",
        "print(s1)\n",
        "\n",
        "#2\n",
        "s1.remove(10)\n",
        "s1.remove(30)\n",
        "print(s1)\n",
        "\n",
        "#3\n",
        "print(40 in s1)\n",
        "\n",
        "#4\n",
        "print(s1.union(s2))\n",
        "\n",
        "#5\n",
        "print(s1.intersection(s2))\n",
        "\n",
        "#6\n",
        "print(s1.difference(s2))\n",
        "\n"
      ],
      "metadata": {
        "colab": {
          "base_uri": "https://localhost:8080/"
        },
        "id": "rCLDU5OcGV7p",
        "outputId": "06ef5a6f-6d97-42f0-8bf6-fb375bc598ab"
      },
      "execution_count": null,
      "outputs": [
        {
          "output_type": "stream",
          "name": "stdout",
          "text": [
            "{66, 40, 10, 50, 20, 55, 60, 30}\n",
            "{66, 40, 50, 20, 55, 60}\n",
            "True\n",
            "{66, 70, 40, 80, 50, 20, 55, 90, 60}\n",
            "{40, 50, 60}\n",
            "{66, 20, 55}\n"
          ]
        }
      ]
    },
    {
      "cell_type": "markdown",
      "source": [
        "Q4. Write the following program.\n",
        "\n",
        "(i) WAP to print 100 random strings whose length between 6 and 8.\n",
        "\n",
        "(ii) WAP to print all prime numbers between 600 and 800.\n",
        "\n",
        "(iii) WAP to print all numbers between 100 and 1000 that are divisible by 7 and 9."
      ],
      "metadata": {
        "id": "bK1Moh3ZH0Mr"
      }
    },
    {
      "cell_type": "code",
      "source": [
        "#1\n",
        "import string as s\n",
        "import random as r\n",
        "\n",
        "for a in range(100):\n",
        "   word= r.sample(s.ascii_letters,r.randint(6,8))\n",
        "   word1=\"\".join(word)\n",
        "   print(word1)\n",
        "\n",
        "#2\n",
        "l=600\n",
        "u=800\n",
        "print (\"The Prime Numbers in the range are: \")  \n",
        "for number in range (l, u + 1):  \n",
        "    if number > 1:  \n",
        "        for i in range (2, number):  \n",
        "            if (number % i) == 0:  \n",
        "                break  \n",
        "        else:  \n",
        "            print (number) \n",
        "\n",
        "#3\n",
        "print (\"The Divisible Numbers in the range are: \")  \n",
        "for i in range(100,1000):\n",
        "  if i % 7 == 0 and i//9 == 0:\n",
        "    print(i)\n"
      ],
      "metadata": {
        "colab": {
          "base_uri": "https://localhost:8080/"
        },
        "id": "jMs4QekAH6Cn",
        "outputId": "62ff4c09-1f43-40ec-9340-25b580ee8657"
      },
      "execution_count": null,
      "outputs": [
        {
          "output_type": "stream",
          "name": "stdout",
          "text": [
            "LUbtDPhn\n",
            "OmYHcud\n",
            "KIrhnNq\n",
            "KFtkay\n",
            "dmbcZU\n",
            "dJkMjVE\n",
            "LMkdKaj\n",
            "dOlEcmM\n",
            "KRuAnmQO\n",
            "jPNoaXg\n",
            "MZVwRv\n",
            "hKaSGxr\n",
            "eUKksz\n",
            "HhNsFX\n",
            "ICWzAtv\n",
            "eHDBkhP\n",
            "ALNhuqF\n",
            "kSECndu\n",
            "cmxltqO\n",
            "jDIKxMZH\n",
            "YdwAck\n",
            "GJvQPL\n",
            "bOVUFW\n",
            "sKxpazC\n",
            "MjpBSA\n",
            "ETVbORo\n",
            "JLyhQj\n",
            "QghnTW\n",
            "LJUWhvT\n",
            "QWLbhZcH\n",
            "FQcfgmaX\n",
            "RAPGnb\n",
            "RHBxfJ\n",
            "zDnPSl\n",
            "OCVnXZBH\n",
            "CXWBTKeP\n",
            "QVtSxY\n",
            "xUAXBjZI\n",
            "wWjRKx\n",
            "JwVDYjS\n",
            "knyICo\n",
            "sqnRtNfO\n",
            "zDLdYXB\n",
            "tqPErv\n",
            "LWngFy\n",
            "AGqkznU\n",
            "zDxGPMh\n",
            "AMGUho\n",
            "LYfAZmX\n",
            "TKxpHeNg\n",
            "CJFSRH\n",
            "JDaPvC\n",
            "YiAykUh\n",
            "zIDikejw\n",
            "tRDbmY\n",
            "UrsfStZg\n",
            "owJcNx\n",
            "vrQhiYcU\n",
            "sYSfCp\n",
            "kBPwcaTu\n",
            "tYzGeUS\n",
            "xZMDOUv\n",
            "sPmMWwJ\n",
            "HrDTsYZw\n",
            "SPFBAC\n",
            "kuzHRsA\n",
            "BbQYrjh\n",
            "sISNamyK\n",
            "dIuZaKR\n",
            "nSVDPHm\n",
            "AMYvuk\n",
            "FRGBLs\n",
            "gljABzxd\n",
            "VHfSvT\n",
            "drvWQf\n",
            "DBAtLrm\n",
            "JvWmHhV\n",
            "tRmiMu\n",
            "vfSOxz\n",
            "imzqDCp\n",
            "FNEoiZPH\n",
            "eRYMJK\n",
            "hpyIfvC\n",
            "agsNMQ\n",
            "PQwTUr\n",
            "jRCIne\n",
            "Ilxkne\n",
            "bxZYVrcn\n",
            "MACVoU\n",
            "UhIMND\n",
            "lwujdfq\n",
            "GFzUJy\n",
            "pZPBnRxA\n",
            "SEfJuzD\n",
            "YrSycMV\n",
            "bSfNxUu\n",
            "UnBquvN\n",
            "qYQRzdM\n",
            "uySoakV\n",
            "lUXgjBP\n",
            "The Prime Numbers in the range are: \n",
            "601\n",
            "607\n",
            "613\n",
            "617\n",
            "619\n",
            "631\n",
            "641\n",
            "643\n",
            "647\n",
            "653\n",
            "659\n",
            "661\n",
            "673\n",
            "677\n",
            "683\n",
            "691\n",
            "701\n",
            "709\n",
            "719\n",
            "727\n",
            "733\n",
            "739\n",
            "743\n",
            "751\n",
            "757\n",
            "761\n",
            "769\n",
            "773\n",
            "787\n",
            "797\n",
            "The Divisible Numbers in the range are: \n"
          ]
        }
      ]
    },
    {
      "cell_type": "markdown",
      "source": [
        "Q5. WAP to create two lists of 10 random numbers between 10 and 30; Find \n",
        "\n",
        "(i) Common numbers in the two lists\n",
        "\n",
        "(ii) Unique numbers in both the list\n",
        "\n",
        "(iii) Minimum in both the list\n",
        "\n",
        "(iv) Maximum in both the list\n",
        "\n",
        "(v) Sum of both the lists\n"
      ],
      "metadata": {
        "id": "GsfpxbhCNfbn"
      }
    },
    {
      "cell_type": "code",
      "source": [
        "import random\n",
        "random.seed(1)\n",
        "l1=[]\n",
        "l2=[]\n",
        "n=10\n",
        "for i in range(n):\n",
        "    l1.append(random.randint(10,30))\n",
        "    l2.append(random.randint(10,30))\n",
        "print(l1)\n",
        "print(l2)\n",
        "\n",
        "#1\n",
        "c = [value for value in l1 if value in l2]\n",
        "print(\"Common int \",c)\n",
        "\n",
        "#2\n",
        "d = [value for value in l1 if value not in l2]\n",
        "e = [value for value in l2 if value not in l1]\n",
        "print(\"Unique int in l1 \",d)\n",
        "print(\"Unique int in l2 \",e)\n",
        "\n",
        "#3\n",
        "print(min(l1+l2))\n",
        "\n",
        "#4\n",
        "print(max(l1+l2))\n",
        "\n",
        "#5\n",
        "del sum\n",
        "print(sum(l1+l2))\n"
      ],
      "metadata": {
        "colab": {
          "base_uri": "https://localhost:8080/"
        },
        "id": "lwYaiKaVMnjO",
        "outputId": "044d9061-83b9-4adc-89c4-b353c8c58fc4"
      },
      "execution_count": null,
      "outputs": [
        {
          "output_type": "stream",
          "name": "stdout",
          "text": [
            "[14, 12, 13, 24, 30, 16, 25, 22, 29, 24]\n",
            "[28, 18, 25, 25, 22, 13, 10, 23, 10, 18]\n",
            "Common int  [13, 25, 22]\n",
            "Unique int in l1  [14, 12, 24, 30, 16, 29, 24]\n",
            "Unique int in l2  [28, 18, 10, 23, 10, 18]\n",
            "10\n",
            "30\n",
            "401\n"
          ]
        }
      ]
    },
    {
      "cell_type": "markdown",
      "source": [
        "Q6. WAP to create a list of 100 random numbers between 100 and 900. Count and print the: \n",
        "\n",
        "(i) All odd numbers\n",
        "\n",
        "(ii) All even numbers\n",
        "\n",
        "(iii) All prime numbers"
      ],
      "metadata": {
        "id": "Bz7dWxQDSO2E"
      }
    },
    {
      "cell_type": "code",
      "source": [
        "import random\n",
        "random.seed(2)\n",
        "l=[]\n",
        "for i in range(100):\n",
        "    l.append(random.randint(100,900))\n",
        "print(l)\n",
        "\n",
        "even=[]\n",
        "odd=[]\n",
        "prime1=[]\n",
        "for n in l:\n",
        "  if  n % 2 == 0: \n",
        "    even.append(n)\n",
        "  else:\n",
        "    odd.append(n)\n",
        "#1\n",
        "print(\"Even - \",even)\n",
        "\n",
        "#2\n",
        "print(\"Odd - \",odd)\n",
        "\n",
        "#3\n",
        "for num in l :\n",
        "    if num == 0 or num == 1 :\n",
        "        continue\n",
        "    for i in range(2, num // 2 + 1) :\n",
        "        if num % i == 0 :\n",
        "            break\n",
        "    else :\n",
        "        prime1.append(num)\n",
        "print(\"Prime - \",prime1)"
      ],
      "metadata": {
        "colab": {
          "base_uri": "https://localhost:8080/"
        },
        "id": "sKpw0OkfSV56",
        "outputId": "dee95fee-7ff0-4739-82c4-cfe714b9b281"
      },
      "execution_count": null,
      "outputs": [
        {
          "output_type": "stream",
          "name": "stdout",
          "text": [
            "[157, 193, 186, 469, 273, 853, 785, 415, 357, 720, 317, 721, 136, 695, 797, 262, 541, 753, 502, 840, 621, 480, 657, 555, 614, 374, 136, 128, 472, 576, 426, 489, 533, 638, 268, 673, 281, 341, 336, 124, 280, 432, 277, 239, 622, 622, 468, 626, 790, 673, 286, 556, 524, 852, 637, 881, 472, 707, 462, 470, 556, 265, 872, 509, 832, 856, 572, 770, 643, 355, 601, 385, 610, 612, 627, 462, 777, 565, 572, 459, 681, 843, 670, 841, 567, 598, 774, 327, 432, 816, 270, 731, 374, 891, 591, 416, 410, 823, 616, 675]\n",
            "Even -  [186, 720, 136, 262, 502, 840, 480, 614, 374, 136, 128, 472, 576, 426, 638, 268, 336, 124, 280, 432, 622, 622, 468, 626, 790, 286, 556, 524, 852, 472, 462, 470, 556, 872, 832, 856, 572, 770, 610, 612, 462, 572, 670, 598, 774, 432, 816, 270, 374, 416, 410, 616]\n",
            "Odd -  [157, 193, 469, 273, 853, 785, 415, 357, 317, 721, 695, 797, 541, 753, 621, 657, 555, 489, 533, 673, 281, 341, 277, 239, 673, 637, 881, 707, 265, 509, 643, 355, 601, 385, 627, 777, 565, 459, 681, 843, 841, 567, 327, 731, 891, 591, 823, 675]\n",
            "Prime -  [157, 193, 853, 317, 797, 541, 673, 281, 277, 239, 673, 881, 509, 643, 601, 823]\n"
          ]
        }
      ]
    },
    {
      "cell_type": "markdown",
      "source": [
        "Q7. D is a dictionary defined as \n",
        "\n",
        "D={1:\"One\",2:\"Two\",3:\"Three\",4:\"Four\", 5:\"Five\"}. \n",
        "\n",
        "WAP to read all the keys and values from dictionary and write to the file in the given below format.\n",
        "\n",
        "Key1, Value1\n",
        "\n",
        "Key2, Value2\n",
        "\n",
        "Key3, Value3\n"
      ],
      "metadata": {
        "id": "mOJ2x9kHVXrq"
      }
    },
    {
      "cell_type": "code",
      "source": [
        "d={1:\"One\",2:\"Two\",3:\"Three\",4:\"Four\", 5:\"Five\"}\n",
        "\n",
        "fp=open('dict.txt','w')\n",
        "for x,y in d.items():\n",
        "\tfp.write(str(x)+\",\"+y + \"\\n\")\n",
        "fp.close()"
      ],
      "metadata": {
        "id": "ol4YbJKvVqT6"
      },
      "execution_count": null,
      "outputs": []
    },
    {
      "cell_type": "markdown",
      "source": [
        "Q8. L is a list defined as \n",
        "\n",
        "L={\"One\",\"Two\",\"Three\",\"Four\",\"Five\"}.\n",
        "\n",
        "WAP to count the length of reach element from a list and write to the file in the given below format:\n",
        "\n",
        "One, 3\n",
        "\n",
        "Two, 3\n",
        "\n",
        "Four, 4"
      ],
      "metadata": {
        "id": "bbO12YgNW-Gr"
      }
    },
    {
      "cell_type": "code",
      "source": [
        "L=[\"One\",\"Two\",\"Three\",\"Four\",\"Five\"]\n",
        "\n",
        "fp=open('list.txt','w')\n",
        "for x in L:\n",
        "\tfp.write(x+\",\"+str(len(x)) + \"\\n\")\n",
        "fp.close()\n"
      ],
      "metadata": {
        "id": "fbxcqcE-XGDN"
      },
      "execution_count": null,
      "outputs": []
    },
    {
      "cell_type": "markdown",
      "source": [
        "Q9. Write to the file 100 random strings whose length between 10 and 15"
      ],
      "metadata": {
        "id": "7IRTuhBtYRuM"
      }
    },
    {
      "cell_type": "code",
      "source": [
        "import string as s\n",
        "import random as r\n",
        "\n",
        "fp=open('str.txt','w')\n",
        "for a in range(100):\n",
        "   word= r.sample(s.ascii_letters,r.randint(10,15))\n",
        "   word1=\"\".join(word)\n",
        "   fp.write(word1 + \"\\n\")\n",
        "fp.close()\n"
      ],
      "metadata": {
        "id": "hkYa_PswYWhW"
      },
      "execution_count": null,
      "outputs": []
    },
    {
      "cell_type": "markdown",
      "source": [
        "Q10. Write to the file all prime numbers between 600 and 800."
      ],
      "metadata": {
        "id": "dNYDdZysY-ju"
      }
    },
    {
      "cell_type": "code",
      "source": [
        "import string as s\n",
        "import random as r\n",
        "\n",
        "fp=open('prime.txt','w')\n",
        "for number in range (600,800):  \n",
        "    if number > 1:  \n",
        "        for i in range (2, number):  \n",
        "            if (number % i) == 0:  \n",
        "                break  \n",
        "        else:  \n",
        "            fp.write(str(number) + \"\\n\")\n",
        "fp.close()"
      ],
      "metadata": {
        "id": "mkb1YTlmY_dt"
      },
      "execution_count": null,
      "outputs": []
    },
    {
      "cell_type": "markdown",
      "source": [
        "Q11. WAP to calculate the time taken by a program."
      ],
      "metadata": {
        "id": "QIeDjzijZkta"
      }
    },
    {
      "cell_type": "code",
      "source": [
        "import time\n",
        "\n",
        "startTime = time.time()\n",
        "\n",
        "n = 5\n",
        "\n",
        "print(\"Program Started\")\n",
        "print(\"\\nWaiting for 5 sec....\")\n",
        "time.sleep(n)\n",
        "\n",
        "print(\"\\nTotal Time in sec \",(round( time.time() - startTime,4)))"
      ],
      "metadata": {
        "colab": {
          "base_uri": "https://localhost:8080/"
        },
        "id": "sjS3JFsDZlx4",
        "outputId": "f2779edb-4a6c-4e75-c771-6a83d991fdeb"
      },
      "execution_count": null,
      "outputs": [
        {
          "output_type": "stream",
          "name": "stdout",
          "text": [
            "Program Started\n",
            "\n",
            "Waiting for 5 sec....\n",
            "\n",
            "Total Time in sec  5.0072\n"
          ]
        }
      ]
    },
    {
      "cell_type": "markdown",
      "source": [
        "Q12. WAP to sort following number of elements in a list, calculate time taken and plot the graph. \n",
        "\n",
        "Number of elements in list Time Taken\n",
        "\n",
        "5k T1\n",
        "\n",
        "10k T2\n",
        "\n",
        "15k T3\n",
        "\n",
        "20k T4\n",
        "\n",
        "25k T5"
      ],
      "metadata": {
        "id": "Gg6_JXmxbObA"
      }
    },
    {
      "cell_type": "code",
      "source": [
        "import random as r\n",
        "import time\n",
        "import itertools\n",
        "random.seed(2)\n",
        "val=[5000,10000,15000,20000,25000]\n",
        "l=[]\n",
        "t=[]\n",
        "for x in val:\n",
        "  for i in range(x):\n",
        "      l.append(r.random())\n",
        "  startTime = time.time()\n",
        "  l.sort()\n",
        "  t.append(round( time.time() - startTime,4))\n",
        "\n",
        "for (x,y) in itertools.zip_longest(val,t):\n",
        "  print(\"For \",x,\" items time taken is \", y)\n"
      ],
      "metadata": {
        "colab": {
          "base_uri": "https://localhost:8080/"
        },
        "id": "uyVgY1PKbhnL",
        "outputId": "97c686fd-350e-4bb4-d183-2c944967022d"
      },
      "execution_count": 60,
      "outputs": [
        {
          "output_type": "stream",
          "name": "stdout",
          "text": [
            "For  5000  items time taken is  0.0059\n",
            "For  10000  items time taken is  0.0024\n",
            "For  15000  items time taken is  0.0032\n",
            "For  20000  items time taken is  0.0045\n",
            "For  25000  items time taken is  0.0059\n"
          ]
        }
      ]
    },
    {
      "cell_type": "markdown",
      "source": [
        "Q13. WAP to create a dictionary of student marks in five subjects and you have to find the student \n",
        " having maximum and minimum average marks"
      ],
      "metadata": {
        "id": "fpXzPr6IgW8Q"
      }
    },
    {
      "cell_type": "code",
      "source": [
        "dic = {\"babu\": [78, 69, 61, 80, 89], \"raju\": [42, 60, 37, 53, 90], \"sham\": [30, 29, 56, 74, 20]}\n",
        "max_marks = -1\n",
        "min_marks = 999\n",
        "avg = dict()\n",
        "for name, marks in dic.items():\n",
        "  add = sum(marks)\n",
        "  avg[name] = [name, add, add / 5]\n",
        "  print(avg[name])\n",
        "  if add > max_marks:\n",
        "    max_marks = add\n",
        "    high = name\n",
        "  if add < min_marks :\n",
        "    min_marks = add\n",
        "    low = name\n",
        "print(high,\"has highest \")\n",
        "print(low,\"has lowest \")"
      ],
      "metadata": {
        "colab": {
          "base_uri": "https://localhost:8080/"
        },
        "id": "xWqkeJrlgYE-",
        "outputId": "e89ce895-d364-4715-b43c-5e332c46bb31"
      },
      "execution_count": 63,
      "outputs": [
        {
          "output_type": "stream",
          "name": "stdout",
          "text": [
            "['babu', 377, 75.4]\n",
            "['raju', 282, 56.4]\n",
            "['sham', 209, 41.8]\n",
            "babu has highest  377\n",
            "sham has lowest  209\n"
          ]
        }
      ]
    }
  ]
}